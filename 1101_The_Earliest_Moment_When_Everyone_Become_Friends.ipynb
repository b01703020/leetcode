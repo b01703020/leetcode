{
  "nbformat": 4,
  "nbformat_minor": 0,
  "metadata": {
    "colab": {
      "name": "1101. The Earliest Moment When Everyone Become Friends.ipynb",
      "provenance": [],
      "authorship_tag": "ABX9TyP63Cmag0wGDUKX/Ed2vu6w",
      "include_colab_link": true
    },
    "kernelspec": {
      "name": "python3",
      "display_name": "Python 3"
    },
    "language_info": {
      "name": "python"
    }
  },
  "cells": [
    {
      "cell_type": "markdown",
      "metadata": {
        "id": "view-in-github",
        "colab_type": "text"
      },
      "source": [
        "<a href=\"https://colab.research.google.com/github/b01703020/leetcode/blob/main/1101_The_Earliest_Moment_When_Everyone_Become_Friends.ipynb\" target=\"_parent\"><img src=\"https://colab.research.google.com/assets/colab-badge.svg\" alt=\"Open In Colab\"/></a>"
      ]
    },
    {
      "cell_type": "markdown",
      "source": [
        "#1101. The Earliest Moment When Everyone Become Friends\n",
        "https://leetcode.com/problems/the-earliest-moment-when-everyone-become-friends/\n",
        "\n",
        "There are n people in a social group labeled from 0 to n - 1.\\\n",
        "You are given an array logs where $logs[i] = [timestamp_i, x_i, y_i]$ indicates that $x_i$ and $y_i$ will be friends at the time $timestamp_i$.\n",
        "\n",
        "Friendship is symmetric. That means if a is friends with b, then b is friends with a. Also, person a is acquainted with a person b if a is friends with b, or a is a friend of someone acquainted with b.\n",
        "\n",
        "Return the earliest time for which every person became acquainted with every other person. If there is no such earliest time, return -1."
      ],
      "metadata": {
        "id": "MV8Nw2aRsGBY"
      }
    },
    {
      "cell_type": "markdown",
      "source": [
        "## Example 1\n",
        "Input:\n",
        "\n",
        "$logs = [[20190101,0,1],[20190104,3,4],[20190107,2,3],[20190211,1,5],[20190224,2,4],[20190301,0,3],[20190312,1,2],[20190322,4,5]], n = 6$\n",
        "\n",
        "Output:\n",
        "\n",
        "20190301\n",
        "\n",
        "\n",
        "Explanation:\n",
        "The first event occurs at timestamp = 20190101 and after 0 and 1 become friends we have the following friendship groups $[0,1], [2], [3], [4], [5]$.\n",
        "\n",
        "The second event occurs at timestamp = 20190104 and after 3 and 4 become friends we have the following friendship groups $[0,1], [2], [3,4], [5]$.\n",
        "\n",
        "The third event occurs at timestamp = 20190107 and after 2 and 3 become friends we have the following friendship groups $[0,1], [2,3,4], [5]$.\n",
        "\n",
        "The fourth event occurs at timestamp = 20190211 and after 1 and 5 become friends we have the following friendship groups $[0,1,5], [2,3,4]$.\n",
        "\n",
        "The fifth event occurs at timestamp = 20190224 and as 2 and 4 are already friends anything happens.\n",
        "\n",
        "The sixth event occurs at timestamp = 20190301 and after 0 and 3 become friends we have that all become friends."
      ],
      "metadata": {
        "id": "Fro-pyOfsF4m"
      }
    },
    {
      "cell_type": "markdown",
      "source": [
        "##Example 2:\n",
        "\n",
        "Input:\n",
        "\n",
        "$logs = [[0,2,0],[1,0,1],[3,0,3],[4,1,2],[7,3,1]], n = 4$\n",
        "\n",
        "Output:\n",
        "\n",
        "3"
      ],
      "metadata": {
        "id": "reuf_PKUuNHT"
      }
    },
    {
      "cell_type": "code",
      "source": [
        ""
      ],
      "metadata": {
        "id": "sAsE5Vw8ujgK"
      },
      "execution_count": null,
      "outputs": []
    },
    {
      "cell_type": "code",
      "execution_count": 1,
      "metadata": {
        "id": "Y2p1zvBWr83y"
      },
      "outputs": [],
      "source": [
        "# Disjoint-set data structure\n",
        "# https://en.wikipedia.org/wiki/Disjoint-set_data_structure\n",
        "\n",
        "class DisjointSet:\n",
        "\n",
        "    def __init__(self, size):\n",
        "        self.group = [group_id for group_id in range(size)] \n",
        "        # to ensure the element of the partition has a unique representation \n",
        "        self.rank = [0] * size\n",
        "\n",
        "    def find(self, person):\n",
        "        if self.group[person] != person:\n",
        "            self.group[person] = self.find(self.group[person])\n",
        "        return self.group[person]\n",
        "\n",
        "    def union(self, a, b):\n",
        "        \"\"\"\n",
        "            return: true if a and b are not connected before\n",
        "                otherwise, connect a with b and then return false\n",
        "        \"\"\"\n",
        "        group_a = self.find(a)\n",
        "        group_b = self.find(b)\n",
        "        is_merged = False\n",
        "        if group_a == group_b:\n",
        "            return is_merged\n",
        "\n",
        "        is_merged = True\n",
        "        # Merge the lower-rank group into the higher-rank group.\n",
        "        if self.rank[group_a] > self.rank[group_b]:\n",
        "            self.group[group_b] = group_a\n",
        "        elif self.rank[group_a] < self.rank[group_b]:\n",
        "            self.group[group_a] = group_b\n",
        "        else:\n",
        "            self.group[group_a] = group_b\n",
        "            self.rank[group_b] += 1\n",
        "\n",
        "        return is_merged"
      ]
    },
    {
      "cell_type": "code",
      "source": [
        "def earliestAcq(logs, n: int) -> int:\n",
        "  # First, we need to sort the events in chronological order.\n",
        "  logs.sort(key = lambda x: x[0])\n",
        "\n",
        "  ds = DisjointSet(n)\n",
        "  # Initially, we treat each individual as a separate group.\n",
        "  group_count = n\n",
        "\n",
        "  # We merge the groups along the way.\n",
        "  for timestamp, friend_a, friend_b in logs:\n",
        "    if ds.union(friend_a, friend_b):\n",
        "      group_count -= 1\n",
        "\n",
        "    # The moment when all individuals are connected to each other.\n",
        "    if group_count == 1:\n",
        "      return timestamp\n",
        "\n",
        "  # There are still more than one groups left,\n",
        "  #  i.e. not everyone is connected.\n",
        "  return -1"
      ],
      "metadata": {
        "id": "-K-BoiXJvOp1"
      },
      "execution_count": 2,
      "outputs": []
    },
    {
      "cell_type": "code",
      "source": [
        "logs, n = [[20190101,0,1],[20190104,3,4],[20190107,2,3],[20190211,1,5],[20190224,2,4],[20190301,0,3],[20190312,1,2],[20190322,4,5]], 6\n",
        "earliestAcq(logs,n)"
      ],
      "metadata": {
        "colab": {
          "base_uri": "https://localhost:8080/"
        },
        "id": "BIGG-EtTzBLC",
        "outputId": "1147cff1-731c-4b6e-ca36-602b2270bc7d"
      },
      "execution_count": 3,
      "outputs": [
        {
          "output_type": "execute_result",
          "data": {
            "text/plain": [
              "20190301"
            ]
          },
          "metadata": {},
          "execution_count": 3
        }
      ]
    },
    {
      "cell_type": "code",
      "source": [
        "logs, n = [[0,2,0],[1,0,1],[3,0,3],[4,1,2],[7,3,1]], 4\n",
        "earliestAcq(logs,n)"
      ],
      "metadata": {
        "colab": {
          "base_uri": "https://localhost:8080/"
        },
        "id": "llmSZTNQ0YIH",
        "outputId": "9575c745-22bd-4fc7-d1bf-0bcba90d540e"
      },
      "execution_count": 4,
      "outputs": [
        {
          "output_type": "execute_result",
          "data": {
            "text/plain": [
              "3"
            ]
          },
          "metadata": {},
          "execution_count": 4
        }
      ]
    }
  ]
}